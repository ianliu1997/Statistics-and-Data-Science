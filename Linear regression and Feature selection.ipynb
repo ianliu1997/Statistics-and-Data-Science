{
 "cells": [
  {
   "cell_type": "code",
   "execution_count": 1,
   "metadata": {
    "deletable": false,
    "editable": false
   },
   "outputs": [],
   "source": [
    "# Initialize Otter\n",
    "import otter\n",
    "grader = otter.Notebook(\"lab4.ipynb\")"
   ]
  },
  {
   "cell_type": "markdown",
   "metadata": {},
   "source": [
    "---\n",
    "\n",
    "<h1><center>SDSE Lab 4 <br><br> Linear regression and Feature selection </center></h1>\n",
    "\n",
    "---\n",
    "\n",
    "In this lab we will use linear regression to predict cancer mortality rates based on data obtained from the American Community Survey of the [U.S. Census Bureau](https://www.census.gov/). The lab has four parts. In part 1 you will load the data and do basic manipulations using [pandas](https://pandas.pydata.org/docs/index.html). Pandas is a Python package that specializes in tabular data. It is widely used in data science and machine learning since the data in these fields are usually structured as a table. Pandas is a very powerful library that is well worth investing some time to learn [here](https://pandas.pydata.org/docs/getting_started/index.html#getting-started) and [here](https://pandas.pydata.org/docs/user_guide/index.html).\n",
    "\n",
    "In part 2 you will perform linear regression on the full feature set. In part 3 you will compute confidence intervals and perform hypothesis tests on the paramters from part 2. Finally, in part 4 you will run the forward and backward stepwise feature selection algorithms and estimate the performance of the resulting model using a test dataset."
   ]
  },
  {
   "cell_type": "code",
   "execution_count": 2,
   "metadata": {},
   "outputs": [],
   "source": [
    "import numpy as np\n",
    "import matplotlib.pyplot as plt\n",
    "import pandas as pd\n",
    "import scipy.stats as stats"
   ]
  },
  {
   "cell_type": "markdown",
   "metadata": {},
   "source": [
    "<h1><font color='purple'> Part 1:  Loading and cleaning the data</font></h1>"
   ]
  },
  {
   "cell_type": "markdown",
   "metadata": {},
   "source": [
    "## 1.1 Load the data into a pandas DataFrame\n",
    "\n",
    "See a description of the data [here](https://data.world/nrippner/ols-regression-challenge).\n",
    "\n",
    "Use [pd.read_csv](https://pandas.pydata.org/docs/reference/api/pandas.read_csv.html) to load the data from `cancerdata.csv`.\n",
    "\n",
    "You can obtain information about the data using these DataFrame methods:\n",
    "+ `data.head()` to see the first 5 rows of the DataFrame.\n",
    "+ `data.tail()` to see the last 5 rows of the DataFrame.\n",
    "+ `data.shape` is the tuple (number of rows, number of columns).\n",
    "+ `data.columns` contains the column labels.\n",
    "+ `data.index` contains the row labels."
   ]
  },
  {
   "cell_type": "code",
   "execution_count": 3,
   "metadata": {
    "tags": []
   },
   "outputs": [],
   "source": [
    "data = pd.read_csv('cancerdata.csv')# TODO"
   ]
  },
  {
   "cell_type": "markdown",
   "metadata": {},
   "source": [
    "## 1.2 Inspect columns\n",
    "\n",
    "Run `data.info()` and note:\n",
    " a) which features are non-numerical (Dtype=object), and\n",
    " b) which features have null entries (Non-Null Count<3047).\n",
    "\n",
    "Store the names ('Column' entry) of the non-numerical features in the set `non_numerical_features`. Store the names of features with null entries in the set `null_entry_features`.\n",
    "\n",
    "**Note**: If not all of the rows of `data.info()` are displayed, you'll probably have this message at the bottom:\n",
    "\n",
    "*``Output is truncated. View as a scrollable element or open in a text editor. Adjust cell output settings...''*"
   ]
  },
  {
   "cell_type": "code",
   "execution_count": 4,
   "metadata": {
    "execution": {
     "iopub.execute_input": "2023-10-14T02:38:28.933185Z",
     "iopub.status.busy": "2023-10-14T02:38:28.933001Z",
     "iopub.status.idle": "2023-10-14T02:38:28.941625Z",
     "shell.execute_reply": "2023-10-14T02:38:28.941242Z"
    },
    "tags": []
   },
   "outputs": [
    {
     "name": "stdout",
     "output_type": "stream",
     "text": [
      "<class 'pandas.core.frame.DataFrame'>\n",
      "RangeIndex: 3047 entries, 0 to 3046\n",
      "Data columns (total 28 columns):\n",
      " #   Column                   Non-Null Count  Dtype  \n",
      "---  ------                   --------------  -----  \n",
      " 0   target_deathrate         3047 non-null   float64\n",
      " 1   incidencerate            3047 non-null   float64\n",
      " 2   medincome                3047 non-null   int64  \n",
      " 3   povertypercent           3047 non-null   float64\n",
      " 4   binnedinc                3047 non-null   object \n",
      " 5   medianage                3047 non-null   float64\n",
      " 6   geography                3047 non-null   object \n",
      " 7   avghouseholdsize         3047 non-null   float64\n",
      " 8   percentmarried           3047 non-null   float64\n",
      " 9   pctnohs18_24             3047 non-null   float64\n",
      " 10  pcths18_24               3047 non-null   float64\n",
      " 11  pctsomecol18_24          762 non-null    float64\n",
      " 12  pctbachdeg18_24          3047 non-null   float64\n",
      " 13  pcths25_over             3047 non-null   float64\n",
      " 14  pctbachdeg25_over        3047 non-null   float64\n",
      " 15  pctemployed16_over       2895 non-null   float64\n",
      " 16  pctunemployed16_over     3047 non-null   float64\n",
      " 17  pctprivatecoverage       3047 non-null   float64\n",
      " 18  pctprivatecoveragealone  2438 non-null   float64\n",
      " 19  pctempprivcoverage       3047 non-null   float64\n",
      " 20  pctpubliccoverage        3047 non-null   float64\n",
      " 21  pctpubliccoveragealone   3047 non-null   float64\n",
      " 22  pctwhite                 3047 non-null   float64\n",
      " 23  pctblack                 3047 non-null   float64\n",
      " 24  pctasian                 3047 non-null   float64\n",
      " 25  pctotherrace             3047 non-null   float64\n",
      " 26  pctmarriedhouseholds     3047 non-null   float64\n",
      " 27  birthrate                3047 non-null   float64\n",
      "dtypes: float64(25), int64(1), object(2)\n",
      "memory usage: 666.7+ KB\n"
     ]
    }
   ],
   "source": [
    "data.info()\n",
    "non_numerical_features = {'binnedinc','geography'}      # TODO\n",
    "null_entry_features = {'pctsomecol18_24','pctemployed16_over','pctprivatecoveragealone'}     # TODO"
   ]
  },
  {
   "cell_type": "code",
   "execution_count": 5,
   "metadata": {
    "deletable": false,
    "editable": false
   },
   "outputs": [
    {
     "data": {
      "text/html": [
       "<p><strong><pre style='display: inline;'>q1p2</pre></strong> passed! 🎉</p>"
      ],
      "text/plain": [
       "q1p2 results: All test cases passed!"
      ]
     },
     "execution_count": 5,
     "metadata": {},
     "output_type": "execute_result"
    }
   ],
   "source": [
    "grader.check(\"q1p2\")"
   ]
  },
  {
   "cell_type": "markdown",
   "metadata": {},
   "source": [
    "## 1.3 Discard non-numerical columns\n",
    "\n",
    "Remove the two columns with non-numeric data.\n",
    "\n",
    "Hints:\n",
    "+ `data.dtypes` lists the data types for each column.\n",
    "+ You can construct a boolean indicator array of non-numeric colums with `data.dtypes=='object'`.\n",
    "+ Use that array to index `data.columns`\n",
    "+ Use [`data.drop`](https://pandas.pydata.org/docs/reference/api/pandas.DataFrame.drop.html) to remove the selected columns"
   ]
  },
  {
   "cell_type": "code",
   "execution_count": 6,
   "metadata": {
    "execution": {
     "iopub.execute_input": "2023-10-14T02:38:28.951214Z",
     "iopub.status.busy": "2023-10-14T02:38:28.951088Z",
     "iopub.status.idle": "2023-10-14T02:38:28.954464Z",
     "shell.execute_reply": "2023-10-14T02:38:28.954166Z"
    },
    "tags": []
   },
   "outputs": [],
   "source": [
    "ind = np.array(data.dtypes=='object') # TODO\n",
    "drop_cols = data.columns[ind]         # TODO\n",
    "data = data.drop(columns = drop_cols)   # TODO"
   ]
  },
  {
   "cell_type": "code",
   "execution_count": 7,
   "metadata": {
    "deletable": false,
    "editable": false
   },
   "outputs": [
    {
     "data": {
      "text/html": [
       "<p><strong><pre style='display: inline;'>q1p3</pre></strong> passed! 💯</p>"
      ],
      "text/plain": [
       "q1p3 results: All test cases passed!"
      ]
     },
     "execution_count": 7,
     "metadata": {},
     "output_type": "execute_result"
    }
   ],
   "source": [
    "grader.check(\"q1p3\")"
   ]
  },
  {
   "cell_type": "markdown",
   "metadata": {},
   "source": [
    "## 1.4 Discard columns where more than 10% of values are nan\n",
    "\n",
    "Hints:\n",
    "+ [`data.dropna`](https://pandas.pydata.org/docs/reference/api/pandas.DataFrame.dropna.html)\n",
    "+ `axis=1` ... we are dropping columns\n",
    "+ `thresh` ... The condition for dropping a column is that it has less than `round(0.9*data.shape[0])` non-nans.\n"
   ]
  },
  {
   "cell_type": "code",
   "execution_count": 8,
   "metadata": {
    "execution": {
     "iopub.execute_input": "2023-10-14T02:38:28.971449Z",
     "iopub.status.busy": "2023-10-14T02:38:28.971188Z",
     "iopub.status.idle": "2023-10-14T02:38:28.974953Z",
     "shell.execute_reply": "2023-10-14T02:38:28.974638Z"
    },
    "tags": []
   },
   "outputs": [
    {
     "data": {
      "text/plain": [
       "(3047, 24)"
      ]
     },
     "execution_count": 8,
     "metadata": {},
     "output_type": "execute_result"
    }
   ],
   "source": [
    "thresh = round(0.9*data.shape[0])                # TODO\n",
    "data = data.dropna(thresh=thresh, axis=1)     # TODO\n",
    "data.shape"
   ]
  },
  {
   "cell_type": "code",
   "execution_count": 9,
   "metadata": {
    "deletable": false,
    "editable": false
   },
   "outputs": [
    {
     "data": {
      "text/html": [
       "<p><strong><pre style='display: inline;'>q1p4</pre></strong> passed! 🚀</p>"
      ],
      "text/plain": [
       "q1p4 results: All test cases passed!"
      ]
     },
     "execution_count": 9,
     "metadata": {},
     "output_type": "execute_result"
    }
   ],
   "source": [
    "grader.check(\"q1p4\")"
   ]
  },
  {
   "cell_type": "markdown",
   "metadata": {},
   "source": [
    "## 1.5 Drop all rows that contain one or more nans.\n",
    "\n",
    "Hint: You can again use `data.dropna` for this."
   ]
  },
  {
   "cell_type": "code",
   "execution_count": 10,
   "metadata": {
    "execution": {
     "iopub.execute_input": "2023-10-14T02:38:28.984452Z",
     "iopub.status.busy": "2023-10-14T02:38:28.984303Z",
     "iopub.status.idle": "2023-10-14T02:38:28.987479Z",
     "shell.execute_reply": "2023-10-14T02:38:28.987176Z"
    },
    "tags": []
   },
   "outputs": [],
   "source": [
    "data = data.dropna(axis=0)      # TODO"
   ]
  },
  {
   "cell_type": "code",
   "execution_count": 11,
   "metadata": {
    "deletable": false,
    "editable": false
   },
   "outputs": [
    {
     "data": {
      "text/html": [
       "<p><strong><pre style='display: inline;'>q1p5</pre></strong> passed! ✨</p>"
      ],
      "text/plain": [
       "q1p5 results: All test cases passed!"
      ]
     },
     "execution_count": 11,
     "metadata": {},
     "output_type": "execute_result"
    }
   ],
   "source": [
    "grader.check(\"q1p5\")"
   ]
  },
  {
   "cell_type": "markdown",
   "metadata": {},
   "source": [
    "## 1.6 Inspect correlations\n",
    "\n",
    "Next we'll look at the correlation coefficients between each of the features and the target variable `target_deathrate`.\n",
    "\n",
    "1) Use `data.corr()` to build the correlations matrix.\n",
    "2) Inspect the column (or row) corresponding to `target_deathrate`.\n",
    "3) Rank (i.e. sort) the features from most to least correlated with the output. This ranking is in terms of the absolute value of the correlation coefficient.\n",
    "4) Save the top 5 correlated features to `top_5_corr`. `top_5_corr` should be a numpy array with shape `(5,)`.\n",
    "\n",
    "Hints:\n",
    "+ [`abs`](https://pandas.pydata.org/docs/reference/api/pandas.Series.abs.html)\n",
    "+ [`sort_values`](https://pandas.pydata.org/docs/reference/api/pandas.Series.sort_values.html)\n",
    "+ [`to_numpy`](https://pandas.pydata.org/docs/reference/api/pandas.Series.to_numpy.html)"
   ]
  },
  {
   "cell_type": "code",
   "execution_count": 12,
   "metadata": {
    "execution": {
     "iopub.execute_input": "2023-10-14T02:38:28.992479Z",
     "iopub.status.busy": "2023-10-14T02:38:28.992343Z",
     "iopub.status.idle": "2023-10-14T02:38:28.998891Z",
     "shell.execute_reply": "2023-10-14T02:38:28.998569Z"
    },
    "tags": []
   },
   "outputs": [],
   "source": [
    "# correlation matrix\n",
    "C = data.corr()         # TODO\n",
    "\n",
    "# vector correlations between the features and target_deathrate\n",
    "corr_target = C['target_deathrate']          # TODO\n",
    "\n",
    "# sorted corr_target_sort\n",
    "corr_target_sort = abs(corr_target).sort_values(ascending=False)         # TODO\n",
    "\n",
    "# top 5 correlations with target_deathrate\n",
    "top_5_sort = corr_target_sort[1:6].index.to_numpy()         # TODO"
   ]
  },
  {
   "cell_type": "code",
   "execution_count": 13,
   "metadata": {
    "deletable": false,
    "editable": false
   },
   "outputs": [
    {
     "data": {
      "text/html": [
       "<p><strong><pre style='display: inline;'>q1p6</pre></strong> passed! 💯</p>"
      ],
      "text/plain": [
       "q1p6 results: All test cases passed!"
      ]
     },
     "execution_count": 13,
     "metadata": {},
     "output_type": "execute_result"
    }
   ],
   "source": [
    "grader.check(\"q1p6\")"
   ]
  },
  {
   "cell_type": "markdown",
   "metadata": {},
   "source": [
    "## 1.7 Scatter plot\n",
    "\n",
    "Make a scatter plot of the data with the most correlated feature along the x axis, and the target along the y axis.\n",
    "\n",
    "Hint: You can use the plotting function attached to the DataFrame: [data.plot(kind='scatter',x=..., y=...)](https://pandas.pydata.org/docs/reference/api/pandas.DataFrame.plot.html)"
   ]
  },
  {
   "cell_type": "code",
   "execution_count": 14,
   "metadata": {
    "execution": {
     "iopub.execute_input": "2023-10-14T02:38:29.004034Z",
     "iopub.status.busy": "2023-10-14T02:38:29.003849Z",
     "iopub.status.idle": "2023-10-14T02:38:29.108498Z",
     "shell.execute_reply": "2023-10-14T02:38:29.108134Z"
    },
    "tags": []
   },
   "outputs": [
    {
     "name": "stderr",
     "output_type": "stream",
     "text": [
      "/srv/conda/lib/python3.9/site-packages/pandas/plotting/_matplotlib/core.py:1070: UserWarning: No data for colormapping provided via 'c'. Parameters 'cmap' will be ignored\n",
      "  scatter = ax.scatter(\n"
     ]
    },
    {
     "data": {
      "text/plain": [
       "<Axes: xlabel='pctbachdeg25_over', ylabel='target_deathrate'>"
      ]
     },
     "execution_count": 14,
     "metadata": {},
     "output_type": "execute_result"
    },
    {
     "data": {
      "image/png": "[encoded data removed]",
      "text/plain": [
       "<Figure size 640x480 with 1 Axes>"
      ]
     },
     "metadata": {},
     "output_type": "display_data"
    }
   ],
   "source": [
    "data.plot(kind='scatter',x=top_5_sort[0], y='target_deathrate')   # TODO"
   ]
  },
  {
   "cell_type": "markdown",
   "metadata": {},
   "source": [
    "---\n",
    "\n",
    "<h1><font color='purple'> Part 2: Linear regression </font></h1>"
   ]
  },
  {
   "cell_type": "markdown",
   "metadata": {},
   "source": [
    "## 2.1 Extract data matrices\n",
    "\n",
    "The next cell extracts the `X` and `Y` matrices from `data`. It also makes a list of `features`, and defines the number of samples `N` and the number of features `P`."
   ]
  },
  {
   "cell_type": "code",
   "execution_count": 15,
   "metadata": {
    "execution": {
     "iopub.execute_input": "2023-10-14T02:38:29.110405Z",
     "iopub.status.busy": "2023-10-14T02:38:29.110066Z",
     "iopub.status.idle": "2023-10-14T02:38:29.115328Z",
     "shell.execute_reply": "2023-10-14T02:38:29.114756Z"
    },
    "tags": []
   },
   "outputs": [],
   "source": [
    "X = data.drop(columns='target_deathrate').values\n",
    "features = data.columns.values\n",
    "features = features[features!='target_deathrate']\n",
    "Y = data['target_deathrate'].values\n",
    "\n",
    "N = X.shape[0]\n",
    "P = len(features)"
   ]
  },
  {
   "cell_type": "code",
   "execution_count": 16,
   "metadata": {
    "deletable": false,
    "editable": false
   },
   "outputs": [
    {
     "data": {
      "text/html": [
       "<p><strong><pre style='display: inline;'>q2p1</pre></strong> passed! 🚀</p>"
      ],
      "text/plain": [
       "q2p1 results: All test cases passed!"
      ]
     },
     "execution_count": 16,
     "metadata": {},
     "output_type": "execute_result"
    }
   ],
   "source": [
    "grader.check(\"q2p1\")"
   ]
  },
  {
   "cell_type": "markdown",
   "metadata": {},
   "source": [
    "## 2.2 Center the inputs\n",
    "\n",
    "\\begin{align*}\n",
    "\\hat\\mu_X &= \\frac{1}{N} \\mathbf{1}^T_N \\mathbf{X} \\\\\n",
    "\\mathbf{X}^c&=\\mathbf{X}-\\mathbf{1}_N\\hat\\mu_X\n",
    "\\end{align*}\n",
    "\n",
    "Compute the column-wise means `muhatX` and subtract them from `X` to obtain `Xc`. \n",
    "\n",
    "Hint: \n",
    "+ Use `X.mean(axis=...)`. Should it be `axis=0` or `axis=1`? \n",
    "+ The formula for `Xc` above has $\\mathbf{1}_N\\hat\\mu_X$. The broadcasting rules of numpy make multiplying $\\hat\\mu_X$ by $\\mathbf{1}_N$ unnecessary.\n",
    "\n",
    "Check that the column-wise means of `Xc` equal zero (to machine precision). "
   ]
  },
  {
   "cell_type": "code",
   "execution_count": 17,
   "metadata": {
    "execution": {
     "iopub.execute_input": "2023-10-14T02:38:29.136430Z",
     "iopub.status.busy": "2023-10-14T02:38:29.136213Z",
     "iopub.status.idle": "2023-10-14T02:38:29.138905Z",
     "shell.execute_reply": "2023-10-14T02:38:29.138604Z"
    },
    "tags": []
   },
   "outputs": [],
   "source": [
    "muhatX = X.mean(axis=0)    # TODO\n",
    "Xc = X - muhatX        # TODO"
   ]
  },
  {
   "cell_type": "code",
   "execution_count": 18,
   "metadata": {
    "deletable": false,
    "editable": false
   },
   "outputs": [
    {
     "data": {
      "text/html": [
       "<p><strong><pre style='display: inline;'>q2p2</pre></strong> passed! 🍀</p>"
      ],
      "text/plain": [
       "q2p2 results: All test cases passed!"
      ]
     },
     "execution_count": 18,
     "metadata": {},
     "output_type": "execute_result"
    }
   ],
   "source": [
    "grader.check(\"q2p2\")"
   ]
  },
  {
   "cell_type": "markdown",
   "metadata": {},
   "source": [
    "## 2.3 Center the outputs\n",
    "\n",
    "\\begin{align*}\n",
    "\\hat\\mu_Y &= \\frac{1}{N} \\mathbf{1}^T_N \\mathbf{Y} \\\\\n",
    "\\mathbf{Y}^c&=\\mathbf{Y}-\\mathbf{1}_N\\hat\\mu_Y\n",
    "\\end{align*}\n"
   ]
  },
  {
   "cell_type": "code",
   "execution_count": 19,
   "metadata": {
    "execution": {
     "iopub.execute_input": "2023-10-14T02:38:29.153250Z",
     "iopub.status.busy": "2023-10-14T02:38:29.153102Z",
     "iopub.status.idle": "2023-10-14T02:38:29.156167Z",
     "shell.execute_reply": "2023-10-14T02:38:29.155826Z"
    },
    "tags": []
   },
   "outputs": [],
   "source": [
    "muhatY = Y.mean()  # TODO\n",
    "Yc = Y - muhatY # TODO"
   ]
  },
  {
   "cell_type": "code",
   "execution_count": 20,
   "metadata": {
    "deletable": false,
    "editable": false
   },
   "outputs": [
    {
     "data": {
      "text/html": [
       "<p><strong><pre style='display: inline;'>q2p3</pre></strong> passed! 🙌</p>"
      ],
      "text/plain": [
       "q2p3 results: All test cases passed!"
      ]
     },
     "execution_count": 20,
     "metadata": {},
     "output_type": "execute_result"
    }
   ],
   "source": [
    "grader.check(\"q2p3\")"
   ]
  },
  {
   "cell_type": "markdown",
   "metadata": {},
   "source": [
    "## 2.4 Compute the inverse input covariance martrix.\n",
    "\n",
    "\n",
    "$$\\Sigma^{-1}_X=( (\\mathbf{X}^c)^T \\mathbf{X}^c)^{-1}$$\n",
    "\n",
    "Hints:\n",
    "+ numpy's @ operator and matrix transposition (`Xc.T`). See [this](https://numpy.org/devdocs/user/numpy-for-matlab-users.html) summary of the key differences between numpy and Matlab.\n",
    "+ [np.linalg.inv](https://numpy.org/doc/stable/reference/generated/numpy.linalg.inv.html)\n"
   ]
  },
  {
   "cell_type": "code",
   "execution_count": 21,
   "metadata": {
    "execution": {
     "iopub.execute_input": "2023-10-14T02:38:29.166444Z",
     "iopub.status.busy": "2023-10-14T02:38:29.166147Z",
     "iopub.status.idle": "2023-10-14T02:38:29.175164Z",
     "shell.execute_reply": "2023-10-14T02:38:29.174756Z"
    },
    "tags": []
   },
   "outputs": [],
   "source": [
    "invCovX = np.linalg.inv(Xc.T@Xc)    # TODO\n"
   ]
  },
  {
   "cell_type": "code",
   "execution_count": 22,
   "metadata": {
    "deletable": false,
    "editable": false
   },
   "outputs": [
    {
     "data": {
      "text/html": [
       "<p><strong><pre style='display: inline;'>q2p4</pre></strong> passed! 🙌</p>"
      ],
      "text/plain": [
       "q2p4 results: All test cases passed!"
      ]
     },
     "execution_count": 22,
     "metadata": {},
     "output_type": "execute_result"
    }
   ],
   "source": [
    "grader.check(\"q2p4\")"
   ]
  },
  {
   "cell_type": "markdown",
   "metadata": {},
   "source": [
    "## 2.5 Compute the least squares estimates of the parameters\n",
    "\n",
    "\\begin{align*}\n",
    "\\underline{\\hat\\theta}_1 &= \\Sigma^{-1}_X(\\mathbf{X}^c)^{T} \\mathbf{Y}^c \\\\\n",
    "\\hat\\theta_0 &= \\hat\\mu_Y - \\hat\\mu_X \\underline{\\hat\\theta}_1\n",
    "\\end{align*}"
   ]
  },
  {
   "cell_type": "code",
   "execution_count": 23,
   "metadata": {
    "execution": {
     "iopub.execute_input": "2023-10-14T02:38:29.187721Z",
     "iopub.status.busy": "2023-10-14T02:38:29.187569Z",
     "iopub.status.idle": "2023-10-14T02:38:29.192154Z",
     "shell.execute_reply": "2023-10-14T02:38:29.191762Z"
    },
    "tags": []
   },
   "outputs": [],
   "source": [
    "theta1hat = invCovX @ Xc.T @ Yc # TODO\n",
    "theta0hat = muhatY - muhatX @ theta1hat  # TODO"
   ]
  },
  {
   "cell_type": "code",
   "execution_count": 24,
   "metadata": {
    "deletable": false,
    "editable": false
   },
   "outputs": [
    {
     "data": {
      "text/html": [
       "<p><strong><pre style='display: inline;'>q2p5</pre></strong> passed! 🍀</p>"
      ],
      "text/plain": [
       "q2p5 results: All test cases passed!"
      ]
     },
     "execution_count": 24,
     "metadata": {},
     "output_type": "execute_result"
    }
   ],
   "source": [
    "grader.check(\"q2p5\")"
   ]
  },
  {
   "cell_type": "markdown",
   "metadata": {},
   "source": [
    "## 2.6 Compute predictions for each of the samples\n",
    "\n",
    "$$\\mathbf{\\hat{Y}} = \\mathbf{1}_N\\hat\\theta_0 + \\mathbf{X}\\underline{\\hat\\theta}_1$$\n"
   ]
  },
  {
   "cell_type": "code",
   "execution_count": 25,
   "metadata": {
    "execution": {
     "iopub.execute_input": "2023-10-14T02:38:29.211446Z",
     "iopub.status.busy": "2023-10-14T02:38:29.211274Z",
     "iopub.status.idle": "2023-10-14T02:38:29.216133Z",
     "shell.execute_reply": "2023-10-14T02:38:29.215719Z"
    },
    "tags": []
   },
   "outputs": [],
   "source": [
    "Yhat = theta0hat + X @ theta1hat  # TODO"
   ]
  },
  {
   "cell_type": "code",
   "execution_count": 26,
   "metadata": {
    "deletable": false,
    "editable": false
   },
   "outputs": [
    {
     "data": {
      "text/html": [
       "<p><strong><pre style='display: inline;'>q2p6</pre></strong> passed! 🌟</p>"
      ],
      "text/plain": [
       "q2p6 results: All test cases passed!"
      ]
     },
     "execution_count": 26,
     "metadata": {},
     "output_type": "execute_result"
    }
   ],
   "source": [
    "grader.check(\"q2p6\")"
   ]
  },
  {
   "cell_type": "markdown",
   "metadata": {},
   "source": [
    "# 2.7 Model performance\n",
    "\n",
    "Compute the coefficient of determination $R^2$ for this model on the trainging data.\n",
    "\n",
    "$$ R^2 = 1 - \\frac{\\sum_{i=1}^N (y_i-\\hat{y}_i)^2}{\\sum_{i=1}^N (y_i-\\hat\\mu_X)^2}$$"
   ]
  },
  {
   "cell_type": "markdown",
   "metadata": {},
   "source": []
  },
  {
   "cell_type": "code",
   "execution_count": 27,
   "metadata": {
    "execution": {
     "iopub.execute_input": "2023-10-14T02:38:29.228784Z",
     "iopub.status.busy": "2023-10-14T02:38:29.228495Z",
     "iopub.status.idle": "2023-10-14T02:38:29.232505Z",
     "shell.execute_reply": "2023-10-14T02:38:29.232161Z"
    },
    "tags": []
   },
   "outputs": [],
   "source": [
    "R2 = 1 - np.sum((Y - Yhat)**2) / np.sum((Y-muhatY)**2)    # TODO"
   ]
  },
  {
   "cell_type": "code",
   "execution_count": 28,
   "metadata": {
    "deletable": false,
    "editable": false
   },
   "outputs": [
    {
     "data": {
      "text/html": [
       "<p><strong><pre style='display: inline;'>q2p7</pre></strong> passed! 🎉</p>"
      ],
      "text/plain": [
       "q2p7 results: All test cases passed!"
      ]
     },
     "execution_count": 28,
     "metadata": {},
     "output_type": "execute_result"
    }
   ],
   "source": [
    "grader.check(\"q2p7\")"
   ]
  },
  {
   "cell_type": "markdown",
   "metadata": {},
   "source": [
    "---\n",
    "\n",
    "<h1><font color='purple'> Part 3: Parameter uncertainty and hypothesis test</font></h1>"
   ]
  },
  {
   "cell_type": "markdown",
   "metadata": {},
   "source": [
    "## 3.1 Estimate the variance of the output\n",
    "\n",
    "$$\\hat\\sigma^2 = \\frac{1}{N-P-1} \\sum_{i=1}^{N}(y_i-\\hat{y}_i)^2$$"
   ]
  },
  {
   "cell_type": "code",
   "execution_count": 29,
   "metadata": {
    "execution": {
     "iopub.execute_input": "2023-10-14T02:38:29.240435Z",
     "iopub.status.busy": "2023-10-14T02:38:29.239901Z",
     "iopub.status.idle": "2023-10-14T02:38:29.244687Z",
     "shell.execute_reply": "2023-10-14T02:38:29.244283Z"
    },
    "tags": []
   },
   "outputs": [],
   "source": [
    "sigmahat2 = 1/(N-P-1) * np.sum((Y-Yhat)**2) "
   ]
  },
  {
   "cell_type": "code",
   "execution_count": 30,
   "metadata": {
    "deletable": false,
    "editable": false
   },
   "outputs": [
    {
     "data": {
      "text/html": [
       "<p><strong><pre style='display: inline;'>q3p1</pre></strong> passed! 🌈</p>"
      ],
      "text/plain": [
       "q3p1 results: All test cases passed!"
      ]
     },
     "execution_count": 30,
     "metadata": {},
     "output_type": "execute_result"
    }
   ],
   "source": [
    "grader.check(\"q3p1\")"
   ]
  },
  {
   "cell_type": "markdown",
   "metadata": {},
   "source": [
    "## 3.2 Compute the variances of the slope parameters\n",
    "\n",
    "These are the diagonal entries of \n",
    "$$Var[\\underline{\\hat\\Theta}_1] = \\hat\\sigma^2 \\Sigma^{-1}_X $$\n",
    "\n",
    "In other words, the variance of $\\hat\\theta_p$ is the $p$'th diagonal entry of $Var[\\underline{\\hat\\Theta}_1]$.\n",
    "\n",
    "**Hint**: [`np.diag`](https://numpy.org/doc/stable/reference/generated/numpy.diag.html)"
   ]
  },
  {
   "cell_type": "code",
   "execution_count": 31,
   "metadata": {
    "execution": {
     "iopub.execute_input": "2023-10-14T02:38:29.253252Z",
     "iopub.status.busy": "2023-10-14T02:38:29.252732Z",
     "iopub.status.idle": "2023-10-14T02:38:29.256235Z",
     "shell.execute_reply": "2023-10-14T02:38:29.255811Z"
    },
    "tags": []
   },
   "outputs": [],
   "source": [
    "var_thetahat = np.diag(sigmahat2 * invCovX) # TODO"
   ]
  },
  {
   "cell_type": "code",
   "execution_count": 32,
   "metadata": {
    "deletable": false,
    "editable": false
   },
   "outputs": [
    {
     "data": {
      "text/html": [
       "<p><strong><pre style='display: inline;'>q3p2</pre></strong> passed! 💯</p>"
      ],
      "text/plain": [
       "q3p2 results: All test cases passed!"
      ]
     },
     "execution_count": 32,
     "metadata": {},
     "output_type": "execute_result"
    }
   ],
   "source": [
    "grader.check(\"q3p2\")"
   ]
  },
  {
   "cell_type": "markdown",
   "metadata": {},
   "source": [
    "## 3.3 Conduct a hypothesis test on each of the parameters, with the null hypothesis that the parameter value is zero. Use a significance level of $\\alpha=0.05$."
   ]
  },
  {
   "cell_type": "markdown",
   "metadata": {},
   "source": [
    "### 3.3.1 Compute Z statistic for each parameter\n",
    "\n",
    "We know that all of the parameters are Gaussian with variance given by the $p$'th diagonal entry in $\\hat\\sigma^2 \\Sigma^{-1}_X$. We denote this variance as $v_p$. Then $v_p$ is the $p$-th entry in `var_thetahat`. To evaluate the hypothesis test we need to compute the z-statistic.\n",
    "\n",
    "$$Z_p = \\frac{\\hat\\theta_p}{\\sqrt{v_p}}$$\n",
    "\n",
    "Construct an array $Z$ with entries equal to these $Z_p$'s"
   ]
  },
  {
   "cell_type": "code",
   "execution_count": 33,
   "metadata": {
    "execution": {
     "iopub.execute_input": "2023-10-14T02:38:29.270918Z",
     "iopub.status.busy": "2023-10-14T02:38:29.270632Z",
     "iopub.status.idle": "2023-10-14T02:38:29.273838Z",
     "shell.execute_reply": "2023-10-14T02:38:29.273475Z"
    },
    "tags": []
   },
   "outputs": [],
   "source": [
    "Z = theta1hat/np.sqrt(var_thetahat)    # TODO"
   ]
  },
  {
   "cell_type": "code",
   "execution_count": 34,
   "metadata": {
    "deletable": false,
    "editable": false
   },
   "outputs": [
    {
     "data": {
      "text/html": [
       "<p><strong><pre style='display: inline;'>q3p3p1</pre></strong> passed! 💯</p>"
      ],
      "text/plain": [
       "q3p3p1 results: All test cases passed!"
      ]
     },
     "execution_count": 34,
     "metadata": {},
     "output_type": "execute_result"
    }
   ],
   "source": [
    "grader.check(\"q3p3p1\")"
   ]
  },
  {
   "cell_type": "markdown",
   "metadata": {},
   "source": [
    "### 3.3.2. Compute the p-value for each parameter\n",
    "\n",
    "$$p_i = 2\\: \\Phi_{\\mathcal{N}}(-|Z_i|)$$"
   ]
  },
  {
   "cell_type": "code",
   "execution_count": 35,
   "metadata": {
    "execution": {
     "iopub.execute_input": "2023-10-14T02:38:29.287672Z",
     "iopub.status.busy": "2023-10-14T02:38:29.287411Z",
     "iopub.status.idle": "2023-10-14T02:38:29.296925Z",
     "shell.execute_reply": "2023-10-14T02:38:29.291763Z"
    },
    "tags": []
   },
   "outputs": [],
   "source": [
    "p = 2 * stats.norm.cdf(-abs(Z))  # TODO"
   ]
  },
  {
   "cell_type": "code",
   "execution_count": 36,
   "metadata": {
    "deletable": false,
    "editable": false
   },
   "outputs": [
    {
     "data": {
      "text/html": [
       "<p><strong><pre style='display: inline;'>q3p3p2</pre></strong> passed! 🙌</p>"
      ],
      "text/plain": [
       "q3p3p2 results: All test cases passed!"
      ]
     },
     "execution_count": 36,
     "metadata": {},
     "output_type": "execute_result"
    }
   ],
   "source": [
    "grader.check(\"q3p3p2\")"
   ]
  },
  {
   "cell_type": "markdown",
   "metadata": {},
   "source": [
    "### 3.3.3 Create a boolean mask indicating features that were deemed influential by the hypothesis test (H0 was rejected)\n",
    "\n",
    "Done already."
   ]
  },
  {
   "cell_type": "code",
   "execution_count": 37,
   "metadata": {
    "execution": {
     "iopub.execute_input": "2023-10-14T02:38:29.314508Z",
     "iopub.status.busy": "2023-10-14T02:38:29.314197Z",
     "iopub.status.idle": "2023-10-14T02:38:29.318315Z",
     "shell.execute_reply": "2023-10-14T02:38:29.317919Z"
    }
   },
   "outputs": [
    {
     "data": {
      "text/plain": [
       "array([ True, False, False, False, False,  True,  True,  True, False,\n",
       "        True,  True,  True, False,  True,  True,  True,  True,  True,\n",
       "       False, False,  True,  True,  True])"
      ]
     },
     "execution_count": 37,
     "metadata": {},
     "output_type": "execute_result"
    }
   ],
   "source": [
    "ind_influential = p<0.05\n",
    "ind_influential"
   ]
  },
  {
   "cell_type": "markdown",
   "metadata": {},
   "source": [
    "### 3.4 Parameters table.\n",
    "Make a DataFrame with one row per parameter. The index of the table should be the parameter names. The columns should be:\n",
    "+ `theta`: the point estimate of the parameter.\n",
    "+ `stddev`: the estiuamted standard deviation of the parameters.\n",
    "+ `Z`: Z scores computed in part 3.3.1\n",
    "+ `p`: p-values compute in part 3.3.2\n",
    "+ `influential`: the boolean indicator from part 3.3.3.\n",
    "\n",
    "Done already."
   ]
  },
  {
   "cell_type": "code",
   "execution_count": 38,
   "metadata": {
    "execution": {
     "iopub.execute_input": "2023-10-14T02:38:29.320244Z",
     "iopub.status.busy": "2023-10-14T02:38:29.319943Z",
     "iopub.status.idle": "2023-10-14T02:38:29.336362Z",
     "shell.execute_reply": "2023-10-14T02:38:29.335735Z"
    }
   },
   "outputs": [
    {
     "data": {
      "text/html": [
       "<div>\n",
       "<style scoped>\n",
       "    .dataframe tbody tr th:only-of-type {\n",
       "        vertical-align: middle;\n",
       "    }\n",
       "\n",
       "    .dataframe tbody tr th {\n",
       "        vertical-align: top;\n",
       "    }\n",
       "\n",
       "    .dataframe thead th {\n",
       "        text-align: right;\n",
       "    }\n",
       "</style>\n",
       "<table border=\"1\" class=\"dataframe\">\n",
       "  <thead>\n",
       "    <tr style=\"text-align: right;\">\n",
       "      <th></th>\n",
       "      <th>thetahat</th>\n",
       "      <th>variance</th>\n",
       "      <th>Z</th>\n",
       "      <th>p</th>\n",
       "      <th>influential</th>\n",
       "    </tr>\n",
       "  </thead>\n",
       "  <tbody>\n",
       "    <tr>\n",
       "      <th>incidencerate</th>\n",
       "      <td>0.187506</td>\n",
       "      <td>5.868989e-05</td>\n",
       "      <td>24.475587</td>\n",
       "      <td>2.688326e-132</td>\n",
       "      <td>True</td>\n",
       "    </tr>\n",
       "    <tr>\n",
       "      <th>medincome</th>\n",
       "      <td>0.000036</td>\n",
       "      <td>6.718420e-09</td>\n",
       "      <td>0.440800</td>\n",
       "      <td>6.593576e-01</td>\n",
       "      <td>False</td>\n",
       "    </tr>\n",
       "    <tr>\n",
       "      <th>povertypercent</th>\n",
       "      <td>0.291682</td>\n",
       "      <td>2.614669e-02</td>\n",
       "      <td>1.803853</td>\n",
       "      <td>7.125441e-02</td>\n",
       "      <td>False</td>\n",
       "    </tr>\n",
       "    <tr>\n",
       "      <th>medianage</th>\n",
       "      <td>-0.005219</td>\n",
       "      <td>6.699541e-05</td>\n",
       "      <td>-0.637612</td>\n",
       "      <td>5.237264e-01</td>\n",
       "      <td>False</td>\n",
       "    </tr>\n",
       "    <tr>\n",
       "      <th>avghouseholdsize</th>\n",
       "      <td>0.797012</td>\n",
       "      <td>9.799942e-01</td>\n",
       "      <td>0.805106</td>\n",
       "      <td>4.207585e-01</td>\n",
       "      <td>False</td>\n",
       "    </tr>\n",
       "    <tr>\n",
       "      <th>percentmarried</th>\n",
       "      <td>1.166145</td>\n",
       "      <td>2.757640e-02</td>\n",
       "      <td>7.022370</td>\n",
       "      <td>2.181363e-12</td>\n",
       "      <td>True</td>\n",
       "    </tr>\n",
       "    <tr>\n",
       "      <th>pctnohs18_24</th>\n",
       "      <td>-0.194668</td>\n",
       "      <td>3.261972e-03</td>\n",
       "      <td>-3.408435</td>\n",
       "      <td>6.533657e-04</td>\n",
       "      <td>True</td>\n",
       "    </tr>\n",
       "    <tr>\n",
       "      <th>pcths18_24</th>\n",
       "      <td>0.183444</td>\n",
       "      <td>2.526946e-03</td>\n",
       "      <td>3.649261</td>\n",
       "      <td>2.629955e-04</td>\n",
       "      <td>True</td>\n",
       "    </tr>\n",
       "    <tr>\n",
       "      <th>pctbachdeg18_24</th>\n",
       "      <td>-0.114888</td>\n",
       "      <td>1.211416e-02</td>\n",
       "      <td>-1.043822</td>\n",
       "      <td>2.965676e-01</td>\n",
       "      <td>False</td>\n",
       "    </tr>\n",
       "    <tr>\n",
       "      <th>pcths25_over</th>\n",
       "      <td>0.369317</td>\n",
       "      <td>9.637369e-03</td>\n",
       "      <td>3.762007</td>\n",
       "      <td>1.685551e-04</td>\n",
       "      <td>True</td>\n",
       "    </tr>\n",
       "    <tr>\n",
       "      <th>pctbachdeg25_over</th>\n",
       "      <td>-1.220256</td>\n",
       "      <td>2.499508e-02</td>\n",
       "      <td>-7.718337</td>\n",
       "      <td>1.178577e-14</td>\n",
       "      <td>True</td>\n",
       "    </tr>\n",
       "    <tr>\n",
       "      <th>pctemployed16_over</th>\n",
       "      <td>-0.673616</td>\n",
       "      <td>1.203520e-02</td>\n",
       "      <td>-6.140244</td>\n",
       "      <td>8.239456e-10</td>\n",
       "      <td>True</td>\n",
       "    </tr>\n",
       "    <tr>\n",
       "      <th>pctunemployed16_over</th>\n",
       "      <td>0.159057</td>\n",
       "      <td>2.873762e-02</td>\n",
       "      <td>0.938270</td>\n",
       "      <td>3.481055e-01</td>\n",
       "      <td>False</td>\n",
       "    </tr>\n",
       "    <tr>\n",
       "      <th>pctprivatecoverage</th>\n",
       "      <td>-0.451365</td>\n",
       "      <td>1.749735e-02</td>\n",
       "      <td>-3.412255</td>\n",
       "      <td>6.442778e-04</td>\n",
       "      <td>True</td>\n",
       "    </tr>\n",
       "    <tr>\n",
       "      <th>pctempprivcoverage</th>\n",
       "      <td>0.421374</td>\n",
       "      <td>1.137579e-02</td>\n",
       "      <td>3.950731</td>\n",
       "      <td>7.791297e-05</td>\n",
       "      <td>True</td>\n",
       "    </tr>\n",
       "    <tr>\n",
       "      <th>pctpubliccoverage</th>\n",
       "      <td>-0.948335</td>\n",
       "      <td>3.379287e-02</td>\n",
       "      <td>-5.158809</td>\n",
       "      <td>2.485254e-07</td>\n",
       "      <td>True</td>\n",
       "    </tr>\n",
       "    <tr>\n",
       "      <th>pctpubliccoveragealone</th>\n",
       "      <td>1.011222</td>\n",
       "      <td>6.634307e-02</td>\n",
       "      <td>3.925986</td>\n",
       "      <td>8.637530e-05</td>\n",
       "      <td>True</td>\n",
       "    </tr>\n",
       "    <tr>\n",
       "      <th>pctwhite</th>\n",
       "      <td>-0.131077</td>\n",
       "      <td>3.503159e-03</td>\n",
       "      <td>-2.214612</td>\n",
       "      <td>2.678671e-02</td>\n",
       "      <td>True</td>\n",
       "    </tr>\n",
       "    <tr>\n",
       "      <th>pctblack</th>\n",
       "      <td>-0.063329</td>\n",
       "      <td>3.205034e-03</td>\n",
       "      <td>-1.118626</td>\n",
       "      <td>2.632996e-01</td>\n",
       "      <td>False</td>\n",
       "    </tr>\n",
       "    <tr>\n",
       "      <th>pctasian</th>\n",
       "      <td>-0.161777</td>\n",
       "      <td>3.341765e-02</td>\n",
       "      <td>-0.884969</td>\n",
       "      <td>3.761734e-01</td>\n",
       "      <td>False</td>\n",
       "    </tr>\n",
       "    <tr>\n",
       "      <th>pctotherrace</th>\n",
       "      <td>-0.903198</td>\n",
       "      <td>1.562607e-02</td>\n",
       "      <td>-7.225334</td>\n",
       "      <td>4.998729e-13</td>\n",
       "      <td>True</td>\n",
       "    </tr>\n",
       "    <tr>\n",
       "      <th>pctmarriedhouseholds</th>\n",
       "      <td>-1.270509</td>\n",
       "      <td>2.715519e-02</td>\n",
       "      <td>-7.709947</td>\n",
       "      <td>1.258699e-14</td>\n",
       "      <td>True</td>\n",
       "    </tr>\n",
       "    <tr>\n",
       "      <th>birthrate</th>\n",
       "      <td>-0.830525</td>\n",
       "      <td>3.766501e-02</td>\n",
       "      <td>-4.279410</td>\n",
       "      <td>1.873893e-05</td>\n",
       "      <td>True</td>\n",
       "    </tr>\n",
       "  </tbody>\n",
       "</table>\n",
       "</div>"
      ],
      "text/plain": [
       "                        thetahat      variance          Z              p  \\\n",
       "incidencerate           0.187506  5.868989e-05  24.475587  2.688326e-132   \n",
       "medincome               0.000036  6.718420e-09   0.440800   6.593576e-01   \n",
       "povertypercent          0.291682  2.614669e-02   1.803853   7.125441e-02   \n",
       "medianage              -0.005219  6.699541e-05  -0.637612   5.237264e-01   \n",
       "avghouseholdsize        0.797012  9.799942e-01   0.805106   4.207585e-01   \n",
       "percentmarried          1.166145  2.757640e-02   7.022370   2.181363e-12   \n",
       "pctnohs18_24           -0.194668  3.261972e-03  -3.408435   6.533657e-04   \n",
       "pcths18_24              0.183444  2.526946e-03   3.649261   2.629955e-04   \n",
       "pctbachdeg18_24        -0.114888  1.211416e-02  -1.043822   2.965676e-01   \n",
       "pcths25_over            0.369317  9.637369e-03   3.762007   1.685551e-04   \n",
       "pctbachdeg25_over      -1.220256  2.499508e-02  -7.718337   1.178577e-14   \n",
       "pctemployed16_over     -0.673616  1.203520e-02  -6.140244   8.239456e-10   \n",
       "pctunemployed16_over    0.159057  2.873762e-02   0.938270   3.481055e-01   \n",
       "pctprivatecoverage     -0.451365  1.749735e-02  -3.412255   6.442778e-04   \n",
       "pctempprivcoverage      0.421374  1.137579e-02   3.950731   7.791297e-05   \n",
       "pctpubliccoverage      -0.948335  3.379287e-02  -5.158809   2.485254e-07   \n",
       "pctpubliccoveragealone  1.011222  6.634307e-02   3.925986   8.637530e-05   \n",
       "pctwhite               -0.131077  3.503159e-03  -2.214612   2.678671e-02   \n",
       "pctblack               -0.063329  3.205034e-03  -1.118626   2.632996e-01   \n",
       "pctasian               -0.161777  3.341765e-02  -0.884969   3.761734e-01   \n",
       "pctotherrace           -0.903198  1.562607e-02  -7.225334   4.998729e-13   \n",
       "pctmarriedhouseholds   -1.270509  2.715519e-02  -7.709947   1.258699e-14   \n",
       "birthrate              -0.830525  3.766501e-02  -4.279410   1.873893e-05   \n",
       "\n",
       "                        influential  \n",
       "incidencerate                  True  \n",
       "medincome                     False  \n",
       "povertypercent                False  \n",
       "medianage                     False  \n",
       "avghouseholdsize              False  \n",
       "percentmarried                 True  \n",
       "pctnohs18_24                   True  \n",
       "pcths18_24                     True  \n",
       "pctbachdeg18_24               False  \n",
       "pcths25_over                   True  \n",
       "pctbachdeg25_over              True  \n",
       "pctemployed16_over             True  \n",
       "pctunemployed16_over          False  \n",
       "pctprivatecoverage             True  \n",
       "pctempprivcoverage             True  \n",
       "pctpubliccoverage              True  \n",
       "pctpubliccoveragealone         True  \n",
       "pctwhite                       True  \n",
       "pctblack                      False  \n",
       "pctasian                      False  \n",
       "pctotherrace                   True  \n",
       "pctmarriedhouseholds           True  \n",
       "birthrate                      True  "
      ]
     },
     "execution_count": 38,
     "metadata": {},
     "output_type": "execute_result"
    }
   ],
   "source": [
    "lr_params = pd.DataFrame(index=features,\n",
    "             data={'thetahat':theta1hat,\n",
    "                   'variance':var_thetahat,\n",
    "                   'Z':Z,\n",
    "                   'p':p,\n",
    "                   'influential':ind_influential})\n",
    "\n",
    "lr_params"
   ]
  },
  {
   "cell_type": "markdown",
   "metadata": {},
   "source": [
    "## 3.5 Sort the parameters table by p-value\n",
    "\n",
    "Create a new DataFrame called `lr_params_sorted` by sorting the values in ascending order, according to p-values.\n",
    "\n",
    "Hint: [`sort_values`](https://pandas.pydata.org/docs/reference/api/pandas.DataFrame.sort_values.html)"
   ]
  },
  {
   "cell_type": "code",
   "execution_count": 39,
   "metadata": {
    "execution": {
     "iopub.execute_input": "2023-10-14T02:38:29.338776Z",
     "iopub.status.busy": "2023-10-14T02:38:29.338452Z",
     "iopub.status.idle": "2023-10-14T02:38:29.343140Z",
     "shell.execute_reply": "2023-10-14T02:38:29.342633Z"
    },
    "tags": []
   },
   "outputs": [],
   "source": [
    "lr_params_sorted = lr_params.sort_values(by='p', ascending = True)   # TODO"
   ]
  },
  {
   "cell_type": "code",
   "execution_count": 40,
   "metadata": {
    "deletable": false,
    "editable": false
   },
   "outputs": [
    {
     "data": {
      "text/html": [
       "<p><strong><pre style='display: inline;'>q3p5</pre></strong> passed! 💯</p>"
      ],
      "text/plain": [
       "q3p5 results: All test cases passed!"
      ]
     },
     "execution_count": 40,
     "metadata": {},
     "output_type": "execute_result"
    }
   ],
   "source": [
    "grader.check(\"q3p5\")"
   ]
  },
  {
   "cell_type": "markdown",
   "metadata": {},
   "source": [
    "## 3.6 Bar plot\n",
    "\n",
    "The bar plot below shows the parameter values along with their 95% (2$\\sigma$) confidence intervals. Influential fetaures are showns in green, non-influential features are shown in red."
   ]
  },
  {
   "cell_type": "code",
   "execution_count": 41,
   "metadata": {
    "execution": {
     "iopub.execute_input": "2023-10-14T02:38:29.353021Z",
     "iopub.status.busy": "2023-10-14T02:38:29.352727Z",
     "iopub.status.idle": "2023-10-14T02:38:29.537099Z",
     "shell.execute_reply": "2023-10-14T02:38:29.536494Z"
    }
   },
   "outputs": [
    {
     "data": {
      "image/png": "[encoded data removed]",
      "text/plain": [
       "<Figure size 1500x500 with 1 Axes>"
      ]
     },
     "metadata": {},
     "output_type": "display_data"
    }
   ],
   "source": [
    "color = np.array(['g' for i in range(P)])\n",
    "color[~lr_params_sorted['influential']] = 'r'\n",
    "\n",
    "lr_params_sorted.plot(kind='bar',\n",
    "                y='thetahat',\n",
    "                yerr=2*np.sqrt(lr_params_sorted['variance']),\n",
    "                figsize=(15,5),\n",
    "                color=color,\n",
    "                legend=False)\n",
    "plt.grid(linestyle=':')"
   ]
  },
  {
   "cell_type": "markdown",
   "metadata": {},
   "source": [
    "## 3.7 Build list of features to keep\n",
    "\n",
    "Extract the names of influential features from `lr_params_sorted` and store them in `features` (overwrite the previous values). `features` should be a numpy array with shape `(15,)`."
   ]
  },
  {
   "cell_type": "code",
   "execution_count": 42,
   "metadata": {
    "execution": {
     "iopub.execute_input": "2023-10-14T02:38:29.539341Z",
     "iopub.status.busy": "2023-10-14T02:38:29.538959Z",
     "iopub.status.idle": "2023-10-14T02:38:29.542439Z",
     "shell.execute_reply": "2023-10-14T02:38:29.542095Z"
    },
    "tags": []
   },
   "outputs": [],
   "source": [
    "features = lr_params_sorted[0:15].index.to_numpy() # TODO"
   ]
  },
  {
   "cell_type": "code",
   "execution_count": 43,
   "metadata": {
    "deletable": false,
    "editable": false
   },
   "outputs": [
    {
     "data": {
      "text/html": [
       "<p><strong><pre style='display: inline;'>q3p7</pre></strong> passed! 🌟</p>"
      ],
      "text/plain": [
       "q3p7 results: All test cases passed!"
      ]
     },
     "execution_count": 43,
     "metadata": {},
     "output_type": "execute_result"
    }
   ],
   "source": [
    "grader.check(\"q3p7\")"
   ]
  },
  {
   "cell_type": "markdown",
   "metadata": {},
   "source": [
    "## 3.8 Create a new DataFrame with only the chosen features\n",
    "\n",
    "Done already. Notice that the target variable is now called `Y`."
   ]
  },
  {
   "cell_type": "code",
   "execution_count": 44,
   "metadata": {
    "execution": {
     "iopub.execute_input": "2023-10-14T02:38:29.552728Z",
     "iopub.status.busy": "2023-10-14T02:38:29.552504Z",
     "iopub.status.idle": "2023-10-14T02:38:29.565811Z",
     "shell.execute_reply": "2023-10-14T02:38:29.565489Z"
    }
   },
   "outputs": [
    {
     "data": {
      "text/html": [
       "<div>\n",
       "<style scoped>\n",
       "    .dataframe tbody tr th:only-of-type {\n",
       "        vertical-align: middle;\n",
       "    }\n",
       "\n",
       "    .dataframe tbody tr th {\n",
       "        vertical-align: top;\n",
       "    }\n",
       "\n",
       "    .dataframe thead th {\n",
       "        text-align: right;\n",
       "    }\n",
       "</style>\n",
       "<table border=\"1\" class=\"dataframe\">\n",
       "  <thead>\n",
       "    <tr style=\"text-align: right;\">\n",
       "      <th></th>\n",
       "      <th>incidencerate</th>\n",
       "      <th>pctbachdeg25_over</th>\n",
       "      <th>pctmarriedhouseholds</th>\n",
       "      <th>pctotherrace</th>\n",
       "      <th>percentmarried</th>\n",
       "      <th>pctemployed16_over</th>\n",
       "      <th>pctpubliccoverage</th>\n",
       "      <th>birthrate</th>\n",
       "      <th>pctempprivcoverage</th>\n",
       "      <th>pctpubliccoveragealone</th>\n",
       "      <th>pcths25_over</th>\n",
       "      <th>pcths18_24</th>\n",
       "      <th>pctprivatecoverage</th>\n",
       "      <th>pctnohs18_24</th>\n",
       "      <th>pctwhite</th>\n",
       "      <th>Y</th>\n",
       "    </tr>\n",
       "  </thead>\n",
       "  <tbody>\n",
       "    <tr>\n",
       "      <th>0</th>\n",
       "      <td>489.800000</td>\n",
       "      <td>19.6</td>\n",
       "      <td>52.856076</td>\n",
       "      <td>1.843479</td>\n",
       "      <td>52.5</td>\n",
       "      <td>51.9</td>\n",
       "      <td>32.9</td>\n",
       "      <td>6.118831</td>\n",
       "      <td>41.6</td>\n",
       "      <td>14.0</td>\n",
       "      <td>23.2</td>\n",
       "      <td>39.5</td>\n",
       "      <td>75.1</td>\n",
       "      <td>11.5</td>\n",
       "      <td>81.780529</td>\n",
       "      <td>164.9</td>\n",
       "    </tr>\n",
       "    <tr>\n",
       "      <th>1</th>\n",
       "      <td>411.600000</td>\n",
       "      <td>22.7</td>\n",
       "      <td>45.372500</td>\n",
       "      <td>3.741352</td>\n",
       "      <td>44.5</td>\n",
       "      <td>55.9</td>\n",
       "      <td>31.1</td>\n",
       "      <td>4.333096</td>\n",
       "      <td>43.6</td>\n",
       "      <td>15.3</td>\n",
       "      <td>26.0</td>\n",
       "      <td>22.4</td>\n",
       "      <td>70.2</td>\n",
       "      <td>6.1</td>\n",
       "      <td>89.228509</td>\n",
       "      <td>161.3</td>\n",
       "    </tr>\n",
       "    <tr>\n",
       "      <th>2</th>\n",
       "      <td>349.700000</td>\n",
       "      <td>16.0</td>\n",
       "      <td>54.444868</td>\n",
       "      <td>2.747358</td>\n",
       "      <td>54.2</td>\n",
       "      <td>45.9</td>\n",
       "      <td>42.1</td>\n",
       "      <td>3.729488</td>\n",
       "      <td>34.9</td>\n",
       "      <td>21.1</td>\n",
       "      <td>29.0</td>\n",
       "      <td>36.6</td>\n",
       "      <td>63.7</td>\n",
       "      <td>24.0</td>\n",
       "      <td>90.922190</td>\n",
       "      <td>174.7</td>\n",
       "    </tr>\n",
       "    <tr>\n",
       "      <th>3</th>\n",
       "      <td>430.400000</td>\n",
       "      <td>9.3</td>\n",
       "      <td>51.021514</td>\n",
       "      <td>1.362643</td>\n",
       "      <td>52.7</td>\n",
       "      <td>48.3</td>\n",
       "      <td>45.3</td>\n",
       "      <td>4.603841</td>\n",
       "      <td>35.0</td>\n",
       "      <td>25.0</td>\n",
       "      <td>31.6</td>\n",
       "      <td>41.2</td>\n",
       "      <td>58.4</td>\n",
       "      <td>20.2</td>\n",
       "      <td>91.744686</td>\n",
       "      <td>194.8</td>\n",
       "    </tr>\n",
       "    <tr>\n",
       "      <th>4</th>\n",
       "      <td>350.100000</td>\n",
       "      <td>15.0</td>\n",
       "      <td>54.027460</td>\n",
       "      <td>0.492135</td>\n",
       "      <td>57.8</td>\n",
       "      <td>48.2</td>\n",
       "      <td>44.0</td>\n",
       "      <td>6.796657</td>\n",
       "      <td>35.1</td>\n",
       "      <td>22.7</td>\n",
       "      <td>33.4</td>\n",
       "      <td>43.0</td>\n",
       "      <td>61.6</td>\n",
       "      <td>14.9</td>\n",
       "      <td>94.104024</td>\n",
       "      <td>144.4</td>\n",
       "    </tr>\n",
       "    <tr>\n",
       "      <th>...</th>\n",
       "      <td>...</td>\n",
       "      <td>...</td>\n",
       "      <td>...</td>\n",
       "      <td>...</td>\n",
       "      <td>...</td>\n",
       "      <td>...</td>\n",
       "      <td>...</td>\n",
       "      <td>...</td>\n",
       "      <td>...</td>\n",
       "      <td>...</td>\n",
       "      <td>...</td>\n",
       "      <td>...</td>\n",
       "      <td>...</td>\n",
       "      <td>...</td>\n",
       "      <td>...</td>\n",
       "      <td>...</td>\n",
       "    </tr>\n",
       "    <tr>\n",
       "      <th>3041</th>\n",
       "      <td>453.549422</td>\n",
       "      <td>21.9</td>\n",
       "      <td>43.276779</td>\n",
       "      <td>1.014038</td>\n",
       "      <td>45.1</td>\n",
       "      <td>68.6</td>\n",
       "      <td>24.3</td>\n",
       "      <td>3.977583</td>\n",
       "      <td>52.9</td>\n",
       "      <td>9.5</td>\n",
       "      <td>27.7</td>\n",
       "      <td>17.7</td>\n",
       "      <td>80.0</td>\n",
       "      <td>2.9</td>\n",
       "      <td>94.291726</td>\n",
       "      <td>146.4</td>\n",
       "    </tr>\n",
       "    <tr>\n",
       "      <th>3042</th>\n",
       "      <td>453.549422</td>\n",
       "      <td>15.2</td>\n",
       "      <td>51.063830</td>\n",
       "      <td>1.700468</td>\n",
       "      <td>51.0</td>\n",
       "      <td>51.7</td>\n",
       "      <td>31.7</td>\n",
       "      <td>7.773512</td>\n",
       "      <td>44.6</td>\n",
       "      <td>13.2</td>\n",
       "      <td>32.2</td>\n",
       "      <td>27.9</td>\n",
       "      <td>78.3</td>\n",
       "      <td>20.9</td>\n",
       "      <td>90.280811</td>\n",
       "      <td>149.6</td>\n",
       "    </tr>\n",
       "    <tr>\n",
       "      <th>3043</th>\n",
       "      <td>453.549422</td>\n",
       "      <td>12.4</td>\n",
       "      <td>52.007937</td>\n",
       "      <td>14.130288</td>\n",
       "      <td>52.6</td>\n",
       "      <td>70.1</td>\n",
       "      <td>28.8</td>\n",
       "      <td>8.186470</td>\n",
       "      <td>48.6</td>\n",
       "      <td>17.7</td>\n",
       "      <td>23.1</td>\n",
       "      <td>33.9</td>\n",
       "      <td>64.5</td>\n",
       "      <td>26.7</td>\n",
       "      <td>75.706245</td>\n",
       "      <td>150.1</td>\n",
       "    </tr>\n",
       "    <tr>\n",
       "      <th>3044</th>\n",
       "      <td>453.549422</td>\n",
       "      <td>12.8</td>\n",
       "      <td>55.153949</td>\n",
       "      <td>5.680705</td>\n",
       "      <td>54.8</td>\n",
       "      <td>64.8</td>\n",
       "      <td>26.6</td>\n",
       "      <td>7.809192</td>\n",
       "      <td>47.8</td>\n",
       "      <td>16.8</td>\n",
       "      <td>23.0</td>\n",
       "      <td>44.5</td>\n",
       "      <td>62.0</td>\n",
       "      <td>19.7</td>\n",
       "      <td>87.961629</td>\n",
       "      <td>153.9</td>\n",
       "    </tr>\n",
       "    <tr>\n",
       "      <th>3046</th>\n",
       "      <td>453.549422</td>\n",
       "      <td>13.7</td>\n",
       "      <td>56.040242</td>\n",
       "      <td>1.356457</td>\n",
       "      <td>59.5</td>\n",
       "      <td>48.8</td>\n",
       "      <td>25.1</td>\n",
       "      <td>8.981723</td>\n",
       "      <td>22.9</td>\n",
       "      <td>12.6</td>\n",
       "      <td>29.8</td>\n",
       "      <td>43.3</td>\n",
       "      <td>76.1</td>\n",
       "      <td>8.0</td>\n",
       "      <td>70.098132</td>\n",
       "      <td>213.6</td>\n",
       "    </tr>\n",
       "  </tbody>\n",
       "</table>\n",
       "<p>2895 rows × 16 columns</p>\n",
       "</div>"
      ],
      "text/plain": [
       "      incidencerate  pctbachdeg25_over  pctmarriedhouseholds  pctotherrace  \\\n",
       "0        489.800000               19.6             52.856076      1.843479   \n",
       "1        411.600000               22.7             45.372500      3.741352   \n",
       "2        349.700000               16.0             54.444868      2.747358   \n",
       "3        430.400000                9.3             51.021514      1.362643   \n",
       "4        350.100000               15.0             54.027460      0.492135   \n",
       "...             ...                ...                   ...           ...   \n",
       "3041     453.549422               21.9             43.276779      1.014038   \n",
       "3042     453.549422               15.2             51.063830      1.700468   \n",
       "3043     453.549422               12.4             52.007937     14.130288   \n",
       "3044     453.549422               12.8             55.153949      5.680705   \n",
       "3046     453.549422               13.7             56.040242      1.356457   \n",
       "\n",
       "      percentmarried  pctemployed16_over  pctpubliccoverage  birthrate  \\\n",
       "0               52.5                51.9               32.9   6.118831   \n",
       "1               44.5                55.9               31.1   4.333096   \n",
       "2               54.2                45.9               42.1   3.729488   \n",
       "3               52.7                48.3               45.3   4.603841   \n",
       "4               57.8                48.2               44.0   6.796657   \n",
       "...              ...                 ...                ...        ...   \n",
       "3041            45.1                68.6               24.3   3.977583   \n",
       "3042            51.0                51.7               31.7   7.773512   \n",
       "3043            52.6                70.1               28.8   8.186470   \n",
       "3044            54.8                64.8               26.6   7.809192   \n",
       "3046            59.5                48.8               25.1   8.981723   \n",
       "\n",
       "      pctempprivcoverage  pctpubliccoveragealone  pcths25_over  pcths18_24  \\\n",
       "0                   41.6                    14.0          23.2        39.5   \n",
       "1                   43.6                    15.3          26.0        22.4   \n",
       "2                   34.9                    21.1          29.0        36.6   \n",
       "3                   35.0                    25.0          31.6        41.2   \n",
       "4                   35.1                    22.7          33.4        43.0   \n",
       "...                  ...                     ...           ...         ...   \n",
       "3041                52.9                     9.5          27.7        17.7   \n",
       "3042                44.6                    13.2          32.2        27.9   \n",
       "3043                48.6                    17.7          23.1        33.9   \n",
       "3044                47.8                    16.8          23.0        44.5   \n",
       "3046                22.9                    12.6          29.8        43.3   \n",
       "\n",
       "      pctprivatecoverage  pctnohs18_24   pctwhite      Y  \n",
       "0                   75.1          11.5  81.780529  164.9  \n",
       "1                   70.2           6.1  89.228509  161.3  \n",
       "2                   63.7          24.0  90.922190  174.7  \n",
       "3                   58.4          20.2  91.744686  194.8  \n",
       "4                   61.6          14.9  94.104024  144.4  \n",
       "...                  ...           ...        ...    ...  \n",
       "3041                80.0           2.9  94.291726  146.4  \n",
       "3042                78.3          20.9  90.280811  149.6  \n",
       "3043                64.5          26.7  75.706245  150.1  \n",
       "3044                62.0          19.7  87.961629  153.9  \n",
       "3046                76.1           8.0  70.098132  213.6  \n",
       "\n",
       "[2895 rows x 16 columns]"
      ]
     },
     "execution_count": 44,
     "metadata": {},
     "output_type": "execute_result"
    }
   ],
   "source": [
    "D = data[features].copy()\n",
    "D['Y'] = data['target_deathrate']\n",
    "D"
   ]
  },
  {
   "cell_type": "markdown",
   "metadata": {},
   "source": [
    "---\n",
    "\n",
    "<h1><font color='purple'> Part 4: Feature subset selection</font></h1>"
   ]
  },
  {
   "cell_type": "markdown",
   "metadata": {},
   "source": [
    "## 4.1 Split D into training, validation, and testing datasets\n",
    "\n",
    "We will use 70% of the data for training, 15% for validation, and 15% for testing.\n",
    "\n",
    "1. Define `Dtrain` as the first `Ntrain` rows of `D`.\n",
    "2. Define `Dvalidate` as the next `Nvalidate` rows of `D`.\n",
    "3. Define `Dtest` as the last `Ntest` rows of `D`.\n",
    "\n",
    "Here we use pandas' [iloc](https://pandas.pydata.org/docs/reference/api/pandas.DataFrame.iloc.html) method for selecting the three datasets."
   ]
  },
  {
   "cell_type": "code",
   "execution_count": 45,
   "metadata": {
    "execution": {
     "iopub.execute_input": "2023-10-14T02:38:29.568269Z",
     "iopub.status.busy": "2023-10-14T02:38:29.568116Z",
     "iopub.status.idle": "2023-10-14T02:38:29.570916Z",
     "shell.execute_reply": "2023-10-14T02:38:29.570597Z"
    }
   },
   "outputs": [],
   "source": [
    "Ntrain = round(0.7*N)\n",
    "Nvalidate = round(0.15*N)\n",
    "Ntest = N - Ntrain - Nvalidate\n",
    "Ntrain, Nvalidate, Ntest\n",
    "\n",
    "Dtrain = D.iloc[:Ntrain,:]\n",
    "Dvalidate = D.iloc[Ntrain:Ntrain+Nvalidate,:]\n",
    "Dtest = D.iloc[Ntrain+Nvalidate:,:]"
   ]
  },
  {
   "cell_type": "markdown",
   "metadata": {},
   "source": [
    "## 4.2 Linear regression training function\n",
    "\n",
    "Create a function called `train` that receives a list of features `S` and a dataset `Dtrain` and does the following:\n",
    "1. Selects the features `S` from `D` and stores them in `X`. (done already)\n",
    "2. Selects the target values from `D` and stores them in `Y`. (done already)\n",
    "3. Performs the linear regression calculations from parts 2.2, 2.3, and 2.4\n",
    "4. Returns the estimated parameters $\\hat\\theta$"
   ]
  },
  {
   "cell_type": "code",
   "execution_count": 46,
   "metadata": {
    "execution": {
     "iopub.execute_input": "2023-10-14T02:38:29.572374Z",
     "iopub.status.busy": "2023-10-14T02:38:29.572242Z",
     "iopub.status.idle": "2023-10-14T02:38:29.576618Z",
     "shell.execute_reply": "2023-10-14T02:38:29.576284Z"
    },
    "tags": []
   },
   "outputs": [],
   "source": [
    "def train(S, Dtrain):\n",
    "\n",
    "    X = Dtrain[list(S)].values\n",
    "    Y = Dtrain['Y'].values\n",
    "\n",
    "    # 2.2 Center the inputs \n",
    "    muhatX = X.mean(axis=0)    # TODO\n",
    "    Xc = X - muhatX    # TODO\n",
    "    \n",
    "\n",
    "    # 2.3 Center the outputs \n",
    "    muhatY = Y.mean()    # TODO\n",
    "    Yc = Y-muhatY   # TODO\n",
    "\n",
    "    \n",
    "    # 2.4 Compute the inverse input covariance matrix\n",
    "    invCovX = np.linalg.inv(Xc.T@Xc)     # TODO\n",
    "\n",
    "    # 2.5 Compute the least squares estimates of the parameters\n",
    "    theta1hat = invCovX @ Xc.T @ Yc    # TODO\n",
    "    theta0hat = muhatY - muhatX @ theta1hat    # TODO\n",
    "\n",
    "    \n",
    "    return theta0hat, theta1hat"
   ]
  },
  {
   "cell_type": "code",
   "execution_count": 47,
   "metadata": {
    "execution": {
     "iopub.execute_input": "2023-10-14T02:38:29.578037Z",
     "iopub.status.busy": "2023-10-14T02:38:29.577882Z",
     "iopub.status.idle": "2023-10-14T02:38:29.581254Z",
     "shell.execute_reply": "2023-10-14T02:38:29.580179Z"
    },
    "tags": []
   },
   "outputs": [],
   "source": [
    "theta0hat, theta1hat = train(['incidencerate','birthrate'], Dtrain)"
   ]
  },
  {
   "cell_type": "code",
   "execution_count": 48,
   "metadata": {
    "deletable": false,
    "editable": false
   },
   "outputs": [
    {
     "data": {
      "text/html": [
       "<p><strong><pre style='display: inline;'>q4p2</pre></strong> passed! 🌈</p>"
      ],
      "text/plain": [
       "q4p2 results: All test cases passed!"
      ]
     },
     "execution_count": 48,
     "metadata": {},
     "output_type": "execute_result"
    }
   ],
   "source": [
    "grader.check(\"q4p2\")"
   ]
  },
  {
   "cell_type": "markdown",
   "metadata": {},
   "source": [
    "## 4.3 Model evluation function\n",
    "\n",
    "Create a function called `perf` that receives the linear regression parameters `theta0hat` and `theta1hat`, their corresponding feature names `S`, and a dataset `D`, which may be the validation or the training dataset.\n",
    "\n",
    "The function should evluate the means squared error (MSE) for the model using this data.\n",
    "\n",
    "The steps are:\n",
    "1. Select the features `S` from `D` and stores them in `X`. (done already)\n",
    "2. Select the target values from `D` and stores them in `Y`. (done already)\n",
    "3. Compute `Yhat`, as in part 2.6.\n",
    "4. Use the MSE as the performance metric:\n",
    "\n",
    "$$MSE = \\frac{1}{N}\\sum_{i=1}^{N} ( y_i-\\hat{y}_i)^2$$"
   ]
  },
  {
   "cell_type": "code",
   "execution_count": 49,
   "metadata": {
    "execution": {
     "iopub.execute_input": "2023-10-14T02:38:29.591943Z",
     "iopub.status.busy": "2023-10-14T02:38:29.591775Z",
     "iopub.status.idle": "2023-10-14T02:38:29.595889Z",
     "shell.execute_reply": "2023-10-14T02:38:29.595560Z"
    },
    "tags": []
   },
   "outputs": [],
   "source": [
    "def perf( S, theta0hat, theta1hat, D):\n",
    "\n",
    "    X = D[list(S)].values\n",
    "    Y = D['Y'].values\n",
    "\n",
    "    # 2.6 Compute predictions for each of the samples\n",
    "    Yhat = theta0hat + X @ theta1hat  # TODO\n",
    "\n",
    "    # 2.7 Model performance\n",
    "    MSE = np.mean((Y - Yhat) ** 2) # TODO\n",
    "    \n",
    "    return MSE"
   ]
  },
  {
   "cell_type": "code",
   "execution_count": 50,
   "metadata": {
    "execution": {
     "iopub.execute_input": "2023-10-14T02:38:29.597154Z",
     "iopub.status.busy": "2023-10-14T02:38:29.597023Z",
     "iopub.status.idle": "2023-10-14T02:38:29.600944Z",
     "shell.execute_reply": "2023-10-14T02:38:29.600638Z"
    },
    "tags": []
   },
   "outputs": [
    {
     "data": {
      "text/plain": [
       "609.6921443878825"
      ]
     },
     "execution_count": 50,
     "metadata": {},
     "output_type": "execute_result"
    }
   ],
   "source": [
    "theta0hat, theta1hat = train(['incidencerate','birthrate'], Dtrain)\n",
    "perf(['incidencerate','birthrate'], theta0hat, theta1hat, Dtrain)"
   ]
  },
  {
   "cell_type": "code",
   "execution_count": 51,
   "metadata": {
    "deletable": false,
    "editable": false
   },
   "outputs": [
    {
     "data": {
      "text/html": [
       "<p><strong><pre style='display: inline;'>q4p3</pre></strong> passed! 🚀</p>"
      ],
      "text/plain": [
       "q4p3 results: All test cases passed!"
      ]
     },
     "execution_count": 51,
     "metadata": {},
     "output_type": "execute_result"
    }
   ],
   "source": [
    "grader.check(\"q4p3\")"
   ]
  },
  {
   "cell_type": "markdown",
   "metadata": {},
   "source": [
    "## 4.4 Forward stepwise selection\n",
    "\n",
    "Following is the code for forward stepwise feature selection that was shown in class. When you run it, it will store the solution in variables with names `f_*`.\n",
    "\n",
    "This part has no deliverables."
   ]
  },
  {
   "cell_type": "code",
   "execution_count": 52,
   "metadata": {
    "execution": {
     "iopub.execute_input": "2023-10-14T02:38:29.608583Z",
     "iopub.status.busy": "2023-10-14T02:38:29.608420Z",
     "iopub.status.idle": "2023-10-14T02:38:29.611105Z",
     "shell.execute_reply": "2023-10-14T02:38:29.610789Z"
    }
   },
   "outputs": [],
   "source": [
    "P = len(features)\n",
    "curlyP = set(features)"
   ]
  },
  {
   "cell_type": "code",
   "execution_count": 53,
   "metadata": {
    "execution": {
     "iopub.execute_input": "2023-10-14T02:38:29.612467Z",
     "iopub.status.busy": "2023-10-14T02:38:29.612332Z",
     "iopub.status.idle": "2023-10-14T02:38:29.728462Z",
     "shell.execute_reply": "2023-10-14T02:38:29.727939Z"
    }
   },
   "outputs": [],
   "source": [
    "curlyS = [set() for i in range(P+1)]\n",
    "ellk = np.full(P+1,np.inf)\n",
    "\n",
    "for k in range(1,P+1):\n",
    "    \n",
    "    curlyA = [set() for i in range(P-k+1)]\n",
    "    ellkappa = np.full(P-k+1,np.inf)\n",
    "\n",
    "    for kappa, phip in enumerate(curlyP-curlyS[k-1]):\n",
    "        curlyA[kappa] = curlyS[k-1].union({phip})\n",
    "        theta0hat, theta1hat = train( curlyA[kappa] , Dtrain)\n",
    "        ellkappa[kappa] = perf(curlyA[kappa], theta0hat, theta1hat, \n",
    "                               Dvalidate)\n",
    "\n",
    "    kappastar = ellkappa.argmin()\n",
    "    curlyS[k] = curlyA[kappastar]\n",
    "    ellk[k] = ellkappa[kappastar]\n",
    "\n",
    "kstar = ellk.argmin()\n",
    "Sstar = curlyS[kstar]\n",
    "theta0star, theta1star = train(Sstar, Dtrain)\n",
    "ellstar = perf(Sstar, theta0star, theta1star, Dtest)\n",
    "\n",
    "# Store the results\n",
    "f_ellk = ellk\n",
    "f_ellstar = ellstar\n",
    "f_kstar = kstar"
   ]
  },
  {
   "cell_type": "markdown",
   "metadata": {},
   "source": [
    "## 4.5 Backward stepwise selection\n",
    "\n",
    "Complete the code for backward stepwise selection."
   ]
  },
  {
   "cell_type": "code",
   "execution_count": 55,
   "metadata": {
    "execution": {
     "iopub.execute_input": "2023-10-14T02:38:29.731382Z",
     "iopub.status.busy": "2023-10-14T02:38:29.731076Z",
     "iopub.status.idle": "2023-10-14T02:38:29.885866Z",
     "shell.execute_reply": "2023-10-14T02:38:29.885352Z"
    },
    "tags": []
   },
   "outputs": [],
   "source": [
    "curlyS = [set() for i in range(P+1)]\n",
    "curlyS[P] = set(features)\n",
    "ellk = np.full(P+1,np.inf)\n",
    "\n",
    "for k in range(P-1,1,-1):    # TODO\n",
    "\n",
    "    assert k+1 == len(curlyS[k+1])\n",
    "    curlyA = [set() for i in range(k+1)]\n",
    "    ellkappa = np.full(k+1,np.inf)\n",
    "\n",
    "    for kappa, phip in enumerate(curlyS[k+1]):    # TODO\n",
    "        curlyA[kappa] = curlyS[k+1].difference({phip})   # TODO\n",
    "        theta0hat, theta1hat = train( curlyA[kappa] , Dtrain)\n",
    "        ellkappa[kappa] = perf(curlyA[kappa], theta0hat, theta1hat, Dvalidate)\n",
    "\n",
    "    kappastar = ellkappa.argmin()\n",
    "    curlyS[k] = curlyA[kappastar]\n",
    "    ellk[k] = ellkappa[kappastar]\n",
    "\n",
    "kstar = ellk.argmin()\n",
    "Sstar = curlyS[kstar]\n",
    "theta0star, theta1star = train(Sstar , Dtrain)\n",
    "ellstar = perf(Sstar, theta0star, theta1star, Dtest)\n",
    "\n",
    "# Store the results\n",
    "b_ellk = ellk\n",
    "b_ellstar = ellstar\n",
    "b_kstar = kstar"
   ]
  },
  {
   "cell_type": "code",
   "execution_count": 56,
   "metadata": {
    "deletable": false,
    "editable": false
   },
   "outputs": [
    {
     "data": {
      "text/html": [
       "<p><strong><pre style='display: inline;'>q4p5</pre></strong> passed! 💯</p>"
      ],
      "text/plain": [
       "q4p5 results: All test cases passed!"
      ]
     },
     "execution_count": 56,
     "metadata": {},
     "output_type": "execute_result"
    }
   ],
   "source": [
    "grader.check(\"q4p5\")"
   ]
  },
  {
   "cell_type": "markdown",
   "metadata": {},
   "source": [
    "## Plot\n",
    "\n",
    "The following plot shows the results of forward and backward stepwise feature selection for this regression problem. In each case, the star indicates the test error for the model with the smallest validation error."
   ]
  },
  {
   "cell_type": "code",
   "execution_count": 57,
   "metadata": {
    "execution": {
     "iopub.execute_input": "2023-10-14T02:38:29.894392Z",
     "iopub.status.busy": "2023-10-14T02:38:29.894152Z",
     "iopub.status.idle": "2023-10-14T02:38:30.164105Z",
     "shell.execute_reply": "2023-10-14T02:38:30.163718Z"
    }
   },
   "outputs": [
    {
     "data": {
      "text/plain": [
       "Text(0, 0.5, 'MSE')"
      ]
     },
     "execution_count": 57,
     "metadata": {},
     "output_type": "execute_result"
    },
    {
     "data": {
      "image/png": "[encoded data removed]",
      "text/plain": [
       "<Figure size 1000x500 with 1 Axes>"
      ]
     },
     "metadata": {},
     "output_type": "display_data"
    }
   ],
   "source": [
    "plt.figure(figsize=(10,5))\n",
    "\n",
    "plt.plot(range(P+1),f_ellk,'o-',color='blue',label='forward',linewidth=3)\n",
    "plt.plot([f_kstar,f_kstar],[f_ellk[f_kstar],f_ellstar],color='blue',linestyle='--',linewidth=2)\n",
    "plt.plot(f_kstar,f_ellstar,'*',color='blue',markersize=22)\n",
    "\n",
    "c = 'darkorange'\n",
    "plt.plot(range(P+1),b_ellk,'o-',color=c,label='backward',linewidth=2)\n",
    "plt.plot([b_kstar,b_kstar],[b_ellk[b_kstar],b_ellstar],color=c,linestyle=':',linewidth=2)\n",
    "plt.plot(b_kstar,b_ellstar,'*',color=c,markersize=16)\n",
    "plt.legend(fontsize=16)\n",
    "\n",
    "plt.grid(linestyle=':')\n",
    "\n",
    "# plt.ylim(340,480)\n",
    "# plt.xlim(0,16)\n",
    "plt.xticks(range(16),fontsize=16)\n",
    "plt.xlabel('k',fontsize=16)\n",
    "plt.ylabel('MSE',fontsize=16)"
   ]
  },
  {
   "cell_type": "markdown",
   "metadata": {
    "deletable": false,
    "editable": false
   },
   "source": [
    "## Submission\n",
    "\n",
    "Make sure you have run all cells in your notebook in order before running the cell below, so that all images/graphs appear in the output. The cell below will generate a zip file for you to submit. **Please save before exporting!**"
   ]
  },
  {
   "cell_type": "code",
   "execution_count": 58,
   "metadata": {
    "deletable": false,
    "editable": false
   },
   "outputs": [
    {
     "data": {
      "text/html": [
       "\n",
       "            <p>Your submission has been exported. Click <a href=\"lab4_2023_11_03T18_25_08_524540.zip\" download=\"lab4_2023_11_03T18_25_08_524540.zip\" target=\"_blank\">here</a>\n",
       "            to download the zip file.</p>\n",
       "            "
      ],
      "text/plain": [
       "<IPython.core.display.HTML object>"
      ]
     },
     "metadata": {},
     "output_type": "display_data"
    }
   ],
   "source": [
    "# Save your notebook first, then run this cell to export your submission.\n",
    "grader.export(pdf=False)"
   ]
  },
  {
   "cell_type": "markdown",
   "metadata": {},
   "source": [
    " "
   ]
  }
 ],
 "metadata": {
  "kernelspec": {
   "display_name": "Python 3 (ipykernel)",
   "language": "python",
   "name": "python3"
  },
  "language_info": {
   "codemirror_mode": {
    "name": "ipython",
    "version": 3
   },
   "file_extension": ".py",
   "mimetype": "text/x-python",
   "name": "python",
   "nbconvert_exporter": "python",
   "pygments_lexer": "ipython3",
   "version": "3.9.15"
  },
  "otter": {
   "OK_FORMAT": true,
   "tests": {
    "q1p2": {
     "name": "q1p2",
     "points": null,
     "suites": [
      {
       "cases": [
        {
         "code": ">>> non_numerical_features == {'geography','binnedinc'}\nTrue",
         "hidden": false,
         "locked": false,
         "points": 1
        },
        {
         "code": ">>> null_entry_features == {'pctsomecol18_24','pctprivatecoveragealone','pctemployed16_over'}\nTrue",
         "hidden": false,
         "locked": false,
         "points": 1
        }
       ],
       "scored": true,
       "setup": "",
       "teardown": "",
       "type": "doctest"
      }
     ]
    },
    "q1p3": {
     "name": "q1p3",
     "points": null,
     "suites": [
      {
       "cases": [
        {
         "code": ">>> data.shape[0]==3047\nTrue",
         "hidden": false,
         "locked": false,
         "points": 0
        },
        {
         "code": ">>> 'binnedinc' not in data.columns\nTrue",
         "hidden": false,
         "locked": false,
         "points": 1
        },
        {
         "code": ">>> 'geography' not in data.columns\nTrue",
         "hidden": false,
         "locked": false,
         "points": 1
        },
        {
         "code": ">>> data.shape[1]==26\nTrue",
         "hidden": false,
         "locked": false,
         "points": 1
        }
       ],
       "scored": true,
       "setup": "",
       "teardown": "",
       "type": "doctest"
      }
     ]
    },
    "q1p4": {
     "name": "q1p4",
     "points": null,
     "suites": [
      {
       "cases": [
        {
         "code": ">>> thresh == 2742\nTrue",
         "hidden": false,
         "locked": false,
         "points": 1
        },
        {
         "code": ">>> data.shape[1] == 24\nTrue",
         "hidden": false,
         "locked": false,
         "points": 1
        }
       ],
       "scored": true,
       "setup": "",
       "teardown": "",
       "type": "doctest"
      }
     ]
    },
    "q1p5": {
     "name": "q1p5",
     "points": null,
     "suites": [
      {
       "cases": [
        {
         "code": ">>> data.shape[0] == 2895\nTrue",
         "hidden": false,
         "locked": false,
         "points": 1
        }
       ],
       "scored": true,
       "setup": "",
       "teardown": "",
       "type": "doctest"
      }
     ]
    },
    "q1p6": {
     "name": "q1p6",
     "points": null,
     "suites": [
      {
       "cases": [
        {
         "code": ">>> set(top_5_sort) == {'pctbachdeg25_over', 'pctpubliccoveragealone', 'incidencerate','medincome', 'povertypercent'}\nTrue",
         "hidden": false,
         "locked": false,
         "points": 3
        }
       ],
       "scored": true,
       "setup": "",
       "teardown": "",
       "type": "doctest"
      }
     ]
    },
    "q2p1": {
     "name": "q2p1",
     "points": null,
     "suites": [
      {
       "cases": [
        {
         "code": ">>> N==2895\nTrue",
         "hidden": false,
         "locked": false,
         "points": 1
        },
        {
         "code": ">>> P==23\nTrue",
         "hidden": false,
         "locked": false,
         "points": 1
        },
        {
         "code": ">>> features.shape[0]==23\nTrue",
         "hidden": false,
         "locked": false,
         "points": 0
        },
        {
         "code": ">>> Y.shape[0]==2895\nTrue",
         "hidden": false,
         "locked": false,
         "points": 0
        },
        {
         "code": ">>> X.shape==(2895, 23)\nTrue",
         "hidden": false,
         "locked": false,
         "points": 0
        }
       ],
       "scored": true,
       "setup": "",
       "teardown": "",
       "type": "doctest"
      }
     ]
    },
    "q2p2": {
     "name": "q2p2",
     "points": null,
     "suites": [
      {
       "cases": [
        {
         "code": ">>> muhatX.shape == (23,)\nTrue",
         "hidden": false,
         "locked": false,
         "points": 1
        },
        {
         "code": ">>> np.all(np.isclose(muhatX,[4.47968130e+02, 4.70018943e+04, 1.69154404e+01, 4.51043869e+01,\\\n...        2.47898111e+00, 5.17701900e+01, 1.82317098e+01, 3.50329188e+01,\\\n...        6.17371330e+00, 3.48162003e+01, 1.32435924e+01, 5.41526425e+01,\\\n...        7.85772021e+00, 6.43052159e+01, 4.11553022e+01, 3.63139551e+01,\\\n...        1.92735060e+01, 8.36106781e+01, 9.13387070e+00, 1.26068542e+00,\\\n...        2.00590580e+00, 5.12269330e+01, 5.63689582e+00],rtol=1e-3))\nTrue",
         "hidden": false,
         "locked": false,
         "points": 1
        },
        {
         "code": ">>> np.all(np.isclose(Xc.mean(axis=0),0.0,rtol=1e-3))\nTrue",
         "hidden": false,
         "locked": false,
         "points": 1
        }
       ],
       "scored": true,
       "setup": "",
       "teardown": "",
       "type": "doctest"
      }
     ]
    },
    "q2p3": {
     "name": "q2p3",
     "points": null,
     "suites": [
      {
       "cases": [
        {
         "code": ">>> np.isclose(muhatY,178.63896373056997,rtol=1e-3)\nTrue",
         "hidden": false,
         "locked": false,
         "points": 1
        },
        {
         "code": ">>> np.all(np.isclose(Yc[:20:3],[-13.73896373,  16.16103627,  -2.73896373,  -0.83896373,-13.33896373,  -8.73896373, -15.33896373],rtol=1e-3))\nTrue",
         "hidden": false,
         "locked": false,
         "points": 1
        }
       ],
       "scored": true,
       "setup": "",
       "teardown": "",
       "type": "doctest"
      }
     ]
    },
    "q2p4": {
     "name": "q2p4",
     "points": null,
     "suites": [
      {
       "cases": [
        {
         "code": ">>> invCovX.shape==(23, 23)\nTrue",
         "hidden": false,
         "locked": false,
         "points": 1
        },
        {
         "code": ">>> np.all(np.isclose(invCovX[:3,:3],[[ 1.55818994e-07, -9.72805269e-11, -5.97570481e-09],\n...        [-9.72805269e-11,  1.78370982e-11,  1.75957749e-08],\n...        [-5.97570481e-09,  1.75957749e-08,  6.94182659e-05]],rtol=1e-3))\nTrue",
         "hidden": false,
         "locked": false,
         "points": 2
        }
       ],
       "scored": true,
       "setup": "",
       "teardown": "",
       "type": "doctest"
      }
     ]
    },
    "q2p5": {
     "name": "q2p5",
     "points": null,
     "suites": [
      {
       "cases": [
        {
         "code": ">>> theta1hat.shape[0]==23 and theta0hat.shape==()\nTrue",
         "hidden": false,
         "locked": false,
         "points": 1
        },
        {
         "code": ">>> np.all(np.isclose(theta1hat[:4],[ 1.87505833e-01,  3.61306252e-05,  2.91681846e-01, -5.21889897e-03],rtol=1e-3))\nTrue",
         "hidden": false,
         "locked": false,
         "points": 1
        },
        {
         "code": ">>> np.isclose(theta0hat,172.2115464819792,1e-1)\nTrue",
         "hidden": false,
         "locked": false,
         "points": 1
        }
       ],
       "scored": true,
       "setup": "",
       "teardown": "",
       "type": "doctest"
      }
     ]
    },
    "q2p6": {
     "name": "q2p6",
     "points": null,
     "suites": [
      {
       "cases": [
        {
         "code": ">>> Yhat.shape[0] == 2895\nTrue",
         "hidden": false,
         "locked": false
        },
        {
         "code": ">>> np.all(np.isclose(Yhat[:10],np.array([168.798185, 153.607133, 151.787604, 184.359217,\\\n...  160.431376, 185.604204, 185.307495, 170.591354, 189.465497, 183.483833, ]),rtol=1e-3))\nTrue",
         "hidden": false,
         "locked": false,
         "points": 2
        }
       ],
       "scored": true,
       "setup": "",
       "teardown": "",
       "type": "doctest"
      }
     ]
    },
    "q2p7": {
     "name": "q2p7",
     "points": null,
     "suites": [
      {
       "cases": [
        {
         "code": ">>> np.isclose(R2,0.5046425705820057,1e-3)\nTrue",
         "hidden": false,
         "locked": false,
         "points": 1
        }
       ],
       "scored": true,
       "setup": "",
       "teardown": "",
       "type": "doctest"
      }
     ]
    },
    "q3p1": {
     "name": "q3p1",
     "points": null,
     "suites": [
      {
       "cases": [
        {
         "code": ">>> \n>>> np.isclose(sigmahat2,376.6542996857211,1e-1)\nTrue",
         "hidden": false,
         "locked": false,
         "points": 1
        }
       ],
       "scored": true,
       "setup": "",
       "teardown": "",
       "type": "doctest"
      }
     ]
    },
    "q3p2": {
     "name": "q3p2",
     "points": null,
     "suites": [
      {
       "cases": [
        {
         "code": ">>> var_thetahat.shape[0]==23\nTrue",
         "hidden": false,
         "locked": false,
         "points": 1
        },
        {
         "code": ">>> np.all(np.isclose(var_thetahat[:5],[5.86898940e-05, 6.71841973e-09, 2.61466883e-02, 6.69954056e-05,9.79994181e-01],rtol=1e-3))\nTrue",
         "hidden": false,
         "locked": false,
         "points": 2
        }
       ],
       "scored": true,
       "setup": "",
       "teardown": "",
       "type": "doctest"
      }
     ]
    },
    "q3p3p1": {
     "name": "q3p3p1",
     "points": null,
     "suites": [
      {
       "cases": [
        {
         "code": ">>> Z.shape[0]==23\nTrue",
         "hidden": false,
         "locked": false,
         "points": 1
        },
        {
         "code": ">>> np.all(np.isclose(Z,[24.47558717,  0.44080033,  1.80385264, -0.63761185,  0.80510603,\\\n...         7.0223698 , -3.40843532,  3.64926127, -1.04382238,  3.7620073 ,\\\n...        -7.71833656, -6.1402445 ,  0.93827042, -3.41225513,  3.95073064,\\\n...        -5.15880917,  3.92598565, -2.21461196, -1.11862628, -0.88496897,\\\n...        -7.22533367, -7.70994712, -4.27941014],rtol=1e-3))\nTrue",
         "hidden": false,
         "locked": false,
         "points": 1
        }
       ],
       "scored": true,
       "setup": "",
       "teardown": "",
       "type": "doctest"
      }
     ]
    },
    "q3p3p2": {
     "name": "q3p3p2",
     "points": null,
     "suites": [
      {
       "cases": [
        {
         "code": ">>> p.shape[0]==23\nTrue",
         "hidden": false,
         "locked": false,
         "points": 1
        },
        {
         "code": ">>> np.all(np.isclose(p,[2.68832634e-132, 6.59357555e-001, 7.12544118e-002, 5.23726380e-001,\\\n...        4.20758498e-001, 2.18136252e-012, 6.53365715e-004, 2.62995517e-004,\\\n...        2.96567574e-001, 1.68555128e-004, 1.17857663e-014, 8.23945617e-010,\\\n...        3.48105456e-001, 6.44277829e-004, 7.79129732e-005, 2.48525449e-007,\\\n...        8.63753049e-005, 2.67867102e-002, 2.63299608e-001, 3.76173367e-001,\\\n...        4.99872942e-013, 1.25869879e-014, 1.87389273e-005],rtol=1e-3))\nTrue",
         "hidden": false,
         "locked": false,
         "points": 2
        }
       ],
       "scored": true,
       "setup": "",
       "teardown": "",
       "type": "doctest"
      }
     ]
    },
    "q3p5": {
     "name": "q3p5",
     "points": null,
     "suites": [
      {
       "cases": [
        {
         "code": ">>> \n>>> np.all(lr_params_sorted.index==['incidencerate','pctbachdeg25_over','pctmarriedhouseholds',\\\n... 'pctotherrace', 'percentmarried', 'pctemployed16_over','pctpubliccoverage', 'birthrate', 'pctempprivcoverage',\\\n... 'pctpubliccoveragealone', 'pcths25_over', 'pcths18_24','pctprivatecoverage', 'pctnohs18_24', 'pctwhite', 'povertypercent',\\\n... 'pctblack', 'pctbachdeg18_24', 'pctunemployed16_over', 'pctasian','avghouseholdsize', 'medianage', 'medincome'])\nTrue",
         "hidden": false,
         "locked": false,
         "points": 2
        }
       ],
       "scored": true,
       "setup": "",
       "teardown": "",
       "type": "doctest"
      }
     ]
    },
    "q3p7": {
     "name": "q3p7",
     "points": null,
     "suites": [
      {
       "cases": [
        {
         "code": ">>> type(features)==np.ndarray\nTrue",
         "hidden": false,
         "locked": false,
         "points": 1
        },
        {
         "code": ">>> np.all(features[:5] == np.array(['incidencerate','pctbachdeg25_over','pctmarriedhouseholds','pctotherrace','percentmarried']))\nTrue",
         "hidden": false,
         "locked": false,
         "points": 1
        }
       ],
       "scored": true,
       "setup": "",
       "teardown": "",
       "type": "doctest"
      }
     ]
    },
    "q4p2": {
     "name": "q4p2",
     "points": null,
     "suites": [
      {
       "cases": [
        {
         "code": ">>> np.isclose(theta0hat,92.08020640170582,rtol=1e-3)\nTrue",
         "hidden": false,
         "locked": false,
         "points": 2
        },
        {
         "code": ">>> np.all(np.isclose(theta1hat,[ 0.19592875, -0.24497933],rtol=1e-3))\nTrue",
         "hidden": false,
         "locked": false,
         "points": 2
        }
       ],
       "scored": true,
       "setup": "",
       "teardown": "",
       "type": "doctest"
      }
     ]
    },
    "q4p3": {
     "name": "q4p3",
     "points": null,
     "suites": [
      {
       "cases": [
        {
         "code": ">>> theta0hat, theta1hat = train(['incidencerate','birthrate'], Dtrain)\n>>> np.isclose(perf(['incidencerate','birthrate'], theta0hat, theta1hat, Dvalidate),660.7346319594856,rtol=1e-3)\nTrue",
         "hidden": false,
         "locked": false,
         "points": 3
        }
       ],
       "scored": true,
       "setup": "",
       "teardown": "",
       "type": "doctest"
      }
     ]
    },
    "q4p5": {
     "name": "q4p5",
     "points": null,
     "suites": [
      {
       "cases": [
        {
         "code": ">>> np.isclose(b_ellstar,440.8047271803019,rtol=1e-3) and b_kstar==11\nTrue",
         "hidden": false,
         "locked": false,
         "points": 3
        }
       ],
       "scored": true,
       "setup": "",
       "teardown": "",
       "type": "doctest"
      }
     ]
    }
   }
  }
 },
 "nbformat": 4,
 "nbformat_minor": 4
}
